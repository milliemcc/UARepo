{
 "cells": [
  {
   "cell_type": "code",
   "execution_count": 1,
   "id": "0b1655ef-c922-4cec-bdb1-0e388941f5ab",
   "metadata": {},
   "outputs": [
    {
     "name": "stdout",
     "output_type": "stream",
     "text": [
      "Hello world\n"
     ]
    }
   ],
   "source": [
    "print(\"Hello world\")"
   ]
  },
  {
   "cell_type": "markdown",
   "id": "fa6f8c42-614e-4806-9e02-bda6242907ef",
   "metadata": {},
   "source": [
    "# my first markdown cell"
   ]
  },
  {
   "cell_type": "markdown",
   "id": "a9a40cfa-6387-421e-9aa7-a7dd98f28660",
   "metadata": {},
   "source": [
    "## my second markdown cell"
   ]
  },
  {
   "cell_type": "markdown",
   "id": "d3951a0b-5fd5-49a6-8d13-1eefb7c46be2",
   "metadata": {},
   "source": [
    "This is some **bold** text"
   ]
  },
  {
   "cell_type": "markdown",
   "id": "8ea8c7dc-1cb5-4c3a-9b14-8dde81be1777",
   "metadata": {},
   "source": [
    "1. First item\n",
    "2. Second item\n",
    "3. third item"
   ]
  },
  {
   "cell_type": "code",
   "execution_count": 2,
   "id": "04f936de-1e3d-4001-81aa-0025b42e1178",
   "metadata": {},
   "outputs": [],
   "source": [
    "my_var = 5"
   ]
  },
  {
   "cell_type": "code",
   "execution_count": 3,
   "id": "030dbd94-43db-432e-8e75-80a9fe6f5e1d",
   "metadata": {},
   "outputs": [],
   "source": [
    "result = my_var * 2"
   ]
  },
  {
   "cell_type": "code",
   "execution_count": 4,
   "id": "7b4cda84-34a0-42a7-a00c-cbdb2f5bb771",
   "metadata": {},
   "outputs": [
    {
     "name": "stdout",
     "output_type": "stream",
     "text": [
      "10\n"
     ]
    }
   ],
   "source": [
    "print(result)"
   ]
  },
  {
   "cell_type": "code",
   "execution_count": null,
   "id": "56b88fea-717f-4b96-ba1c-2598e77dd7b8",
   "metadata": {},
   "outputs": [],
   "source": []
  }
 ],
 "metadata": {
  "kernelspec": {
   "display_name": "Python 3 (ipykernel)",
   "language": "python",
   "name": "python3"
  },
  "language_info": {
   "codemirror_mode": {
    "name": "ipython",
    "version": 3
   },
   "file_extension": ".py",
   "mimetype": "text/x-python",
   "name": "python",
   "nbconvert_exporter": "python",
   "pygments_lexer": "ipython3",
   "version": "3.11.6"
  }
 },
 "nbformat": 4,
 "nbformat_minor": 5
}
